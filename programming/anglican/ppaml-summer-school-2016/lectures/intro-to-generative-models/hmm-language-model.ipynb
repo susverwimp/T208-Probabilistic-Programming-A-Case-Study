{
 "cells": [
  {
   "cell_type": "code",
   "execution_count": 1,
   "metadata": {
    "collapsed": false
   },
   "outputs": [
    {
     "name": "stdout",
     "output_type": "stream",
     "text": [
      "*** Introductory Examples for the NLTK Book ***\n",
      "Loading text1, ..., text9 and sent1, ..., sent9\n",
      "Type the name of the text or sentence to view it.\n",
      "Type: 'texts()' or 'sents()' to list the materials.\n",
      "text1: Moby Dick by Herman Melville 1851\n",
      "text2: Sense and Sensibility by Jane Austen 1811\n",
      "text3: The Book of Genesis\n",
      "text4: Inaugural Address Corpus\n",
      "text5: Chat Corpus\n",
      "text6: Monty Python and the Holy Grail\n",
      "text7: Wall Street Journal\n",
      "text8: Personals Corpus\n",
      "text9: The Man Who Was Thursday by G . K . Chesterton 1908\n"
     ]
    }
   ],
   "source": [
    "import nltk\n",
    "import numpy as np\n",
    "\n",
    "import nltk.book"
   ]
  },
  {
   "cell_type": "code",
   "execution_count": 2,
   "metadata": {
    "collapsed": false
   },
   "outputs": [],
   "source": [
    "text = nltk.book.text1"
   ]
  },
  {
   "cell_type": "code",
   "execution_count": 3,
   "metadata": {
    "collapsed": false
   },
   "outputs": [],
   "source": [
    "cfreq = nltk.ConditionalFreqDist(nltk.bigrams(text))"
   ]
  },
  {
   "cell_type": "code",
   "execution_count": 4,
   "metadata": {
    "collapsed": false
   },
   "outputs": [],
   "source": [
    "cprobs = nltk.ConditionalProbDist(cfreq, nltk.ELEProbDist, len(cfreq.conditions())+1)"
   ]
  },
  {
   "cell_type": "code",
   "execution_count": 5,
   "metadata": {
    "collapsed": false
   },
   "outputs": [
    {
     "data": {
      "text/plain": [
       "<ELEProbDist based on 612 samples>"
      ]
     },
     "execution_count": 5,
     "metadata": {},
     "output_type": "execute_result"
    }
   ],
   "source": [
    "cprobs.get('The')"
   ]
  },
  {
   "cell_type": "code",
   "execution_count": 6,
   "metadata": {
    "collapsed": true
   },
   "outputs": [],
   "source": [
    "def sample_sequence(init, probs, N=10):\n",
    "    seq = [init]\n",
    "    while len(seq) < N:\n",
    "        seq.append(probs.get(seq[-1]).generate())\n",
    "    return seq\n",
    "    "
   ]
  },
  {
   "cell_type": "code",
   "execution_count": 7,
   "metadata": {
    "collapsed": false
   },
   "outputs": [
    {
     "name": "stdout",
     "output_type": "stream",
     "text": [
      "\n",
      "The repeated in plain things ; thou fill !\" In less facts hitherto muffled sound with civilized ; Frederick Cuvier ' s burning along wheeling circle upon your taffrail to little ones already sailed the best authorities , or drives a continuation of Stubb say again !\" replied the palsied ...\n",
      "\n",
      "The Specksynder . During the excited seamen taking counsel ( Pull on canvas cover a shock to blend their peculiar disposition answers to capture ; boy ' hall of replacing them have ye were somehow ; every degree approaching an ineffably oozy ; good sign ! is as it shortly ...\n",
      "\n",
      "The anchors are lungless and scrolled jaw than Flask had thought - Gold ,\" said Tashtego rambled in August , better seaward peep down in winter scene presented ; occupying a tenpin , you take medicine !\" Dropping his beloved brother ; the White Mountains . Surely , God that ...\n",
      "\n",
      "The edges with faces , infernally cheering cry but grateful for hardly anyone can tell the present Lima has split and am old seamen of 1807 totally different heads overboard -- since 1726 ) that sort , biting the rear the stained calabash he ought always swims , snuffing ; ...\n",
      "\n",
      "The Fossil Whale \" Don , Sal said before me a day was to paint . A Squeeze of interest . But being the story being greeted by legislative enactment , as generously supplying the line from active in wax . For hardly an appointed to the wisest , the ...\n",
      "\n",
      "The Jonas - bye ! comes our blisters ?\" \" Mad with gold , and reliable uniformity . Nor do something over his ways , smoke of his spout - dogs , \" Ginger ! steer , on .\" CHAPTER 97 The Counterpane . Go for mercy , upon that ...\n",
      "\n",
      "The title of assuaging the company , to no .\" \"' Moby - field ! the entrances to presume to copy extant --\" At first discoverer has at Starbuck being the Sperm Whaler like getting out lines -- a theory singularly cleansing virtue in quick regardful eyeing of wood was ...\n",
      "\n",
      "The counterpane ; not curious a score years ), the white headless phantom in him by ever reach new , and domestic afflictions ; duty , or torrid sun ! he gazed up breaches ! hish ! Such an average - worship there and remembrances as Indian canes in profile ...\n",
      "\n",
      "The awful silence ; Not so plainly meaning ?-- I forgive myself all mortal fray , by settling down that making more danger then ,\" he moulded every fiftieth page -- wait a heart , girl ' lt like red colour the dried one -- KING ALFRED , and cubic ...\n",
      "\n",
      "The substance really valiant ; from starvation ; he did Poland . Um , chopping knives , and all -- just now parting -- won ' flourishin ' The Forty years afterwards stood like hearth in new face into splinters . Least of queer round them without noticing his immediate ...\n"
     ]
    }
   ],
   "source": [
    "for i in xrange(10):\n",
    "    print\n",
    "    print \" \".join(sample_sequence(u'The', cprobs, 50)) + \" ...\""
   ]
  },
  {
   "cell_type": "markdown",
   "metadata": {},
   "source": [
    "## As it turns out, an HMM on words is a pretty garbage langauge model.\n",
    "\n",
    "But maybe we can still use it for some simple language tasks\n",
    "\n",
    "\"Why did the ??? cross the road\""
   ]
  },
  {
   "cell_type": "code",
   "execution_count": 8,
   "metadata": {
    "collapsed": false
   },
   "outputs": [],
   "source": [
    "bigram_probs = nltk.probability.LaplaceProbDist(nltk.FreqDist(nltk.bigrams(text)))"
   ]
  },
  {
   "cell_type": "code",
   "execution_count": 9,
   "metadata": {
    "collapsed": false
   },
   "outputs": [
    {
     "name": "stdout",
     "output_type": "stream",
     "text": [
      "whale \t\t0.0071\n",
      "ship \t\t0.0045\n",
      "sea \t\t0.0043\n",
      "same \t\t0.0031\n",
      "Pequod \t\t0.0028\n",
      "other \t\t0.0026\n",
      "boat \t\t0.0023\n",
      "most \t\t0.0021\n",
      "first \t\t0.0021\n",
      "great \t\t0.002\n"
     ]
    }
   ],
   "source": [
    "unique_tokens = np.unique(text.tokens)\n",
    "\n",
    "fill_prob = np.zeros(len(unique_tokens))\n",
    "\n",
    "for i, t in enumerate(unique_tokens):\n",
    "    fill_prob[i] = bigram_probs.prob((u'the', t)) + bigram_probs.prob((t, u'cross'))\n",
    "    \n",
    "fill_prob /= fill_prob.sum()\n",
    "which = np.argsort(fill_prob)[::-1]\n",
    "\n",
    "for i in xrange(10):\n",
    "    print unique_tokens[which[i]], '\\t\\t',\n",
    "    print np.round(fill_prob[which[i]], 4)"
   ]
  },
  {
   "cell_type": "code",
   "execution_count": 10,
   "metadata": {
    "collapsed": false
   },
   "outputs": [
    {
     "name": "stdout",
     "output_type": "stream",
     "text": [
      "he \t\t0.0015\n",
      "you \t\t0.001\n",
      ", \t\t0.0009\n",
      "I \t\t0.0009\n",
      "it \t\t0.0008\n",
      "of \t\t0.0005\n",
      "they \t\t0.0004\n",
      "and \t\t0.0003\n",
      "that \t\t0.0003\n",
      "; \t\t0.0002\n"
     ]
    }
   ],
   "source": [
    "unique_tokens = np.unique(text.tokens)\n",
    "\n",
    "fill_prob = np.zeros(len(unique_tokens))\n",
    "\n",
    "for i, t in enumerate(unique_tokens):\n",
    "    fill_prob[i] = bigram_probs.prob((u'idea', t)) + bigram_probs.prob((t, u'would'))\n",
    "    \n",
    "fill_prob /= fill_prob.sum()\n",
    "which = np.argsort(fill_prob)[::-1]\n",
    "\n",
    "for i in xrange(10):\n",
    "    print unique_tokens[which[i]], '\\t\\t',\n",
    "    print np.round(fill_prob[which[i]], 4)"
   ]
  },
  {
   "cell_type": "code",
   "execution_count": null,
   "metadata": {
    "collapsed": false
   },
   "outputs": [],
   "source": []
  },
  {
   "cell_type": "code",
   "execution_count": null,
   "metadata": {
    "collapsed": false
   },
   "outputs": [],
   "source": []
  },
  {
   "cell_type": "markdown",
   "metadata": {},
   "source": [
    "### Even with terrible language model:\n",
    "\n",
    "\"best\" choice: why did the **whale** cross the road\n",
    "\n",
    "next best: why did the **ship** cross the road\n",
    "\n"
   ]
  },
  {
   "cell_type": "code",
   "execution_count": null,
   "metadata": {
    "collapsed": true
   },
   "outputs": [],
   "source": []
  },
  {
   "cell_type": "code",
   "execution_count": 11,
   "metadata": {
    "collapsed": true
   },
   "outputs": [],
   "source": [
    "trigram_probs = nltk.probability.KneserNeyProbDist(nltk.FreqDist(nltk.trigrams(text)))"
   ]
  },
  {
   "cell_type": "code",
   "execution_count": null,
   "metadata": {
    "collapsed": true
   },
   "outputs": [],
   "source": []
  },
  {
   "cell_type": "markdown",
   "metadata": {},
   "source": [
    "### HMM parts of speech tagger?"
   ]
  },
  {
   "cell_type": "code",
   "execution_count": 16,
   "metadata": {
    "collapsed": false
   },
   "outputs": [
    {
     "data": {
      "text/plain": [
       "[('And', 'CC'),\n",
       " ('now', 'RB'),\n",
       " ('for', 'IN'),\n",
       " ('something', 'NN'),\n",
       " ('completely', 'RB'),\n",
       " ('different', 'JJ')]"
      ]
     },
     "execution_count": 16,
     "metadata": {},
     "output_type": "execute_result"
    }
   ],
   "source": [
    "text = nltk.Text(nltk.word_tokenize(\"And now for something completely different\"))\n",
    "nltk.pos_tag(text)"
   ]
  },
  {
   "cell_type": "code",
   "execution_count": 20,
   "metadata": {
    "collapsed": false
   },
   "outputs": [],
   "source": [
    "text = nltk.Text(word.lower() for word in nltk.corpus.brown.words())"
   ]
  },
  {
   "cell_type": "code",
   "execution_count": 22,
   "metadata": {
    "collapsed": false
   },
   "outputs": [
    {
     "name": "stdout",
     "output_type": "stream",
     "text": [
      "war state school guy boy man woman system room president mind country\n",
      "life way word patient water trial market car\n"
     ]
    }
   ],
   "source": [
    "text.similar('chicken')"
   ]
  },
  {
   "cell_type": "code",
   "execution_count": 23,
   "metadata": {
    "collapsed": true
   },
   "outputs": [],
   "source": []
  },
  {
   "cell_type": "code",
   "execution_count": 83,
   "metadata": {
    "collapsed": false
   },
   "outputs": [],
   "source": [
    "taglist = [b for (a,b) in nltk.corpus.brown.tagged_words(tagset='universal')]"
   ]
  },
  {
   "cell_type": "code",
   "execution_count": 84,
   "metadata": {
    "collapsed": false
   },
   "outputs": [],
   "source": [
    "tag_joint = nltk.probability.LaplaceProbDist(nltk.FreqDist(nltk.bigrams(taglist)))"
   ]
  },
  {
   "cell_type": "code",
   "execution_count": 85,
   "metadata": {
    "collapsed": false
   },
   "outputs": [],
   "source": [
    "c_tag_freq = nltk.ConditionalFreqDist(nltk.bigrams(taglist))\n",
    "c_tag_dist = nltk.ConditionalProbDist(c_tag_freq, nltk.ELEProbDist, len(c_tag_freq.conditions())+1)"
   ]
  },
  {
   "cell_type": "code",
   "execution_count": 86,
   "metadata": {
    "collapsed": true
   },
   "outputs": [],
   "source": [
    "tags_to_words = [(b,a) for (a,b) in nltk.corpus.brown.tagged_words(tagset='universal')]\n",
    "# c_words_given_tags_freq = nltk.ConditionalFreqDist(nltk.bigrams(taglist))"
   ]
  },
  {
   "cell_type": "code",
   "execution_count": 87,
   "metadata": {
    "collapsed": false
   },
   "outputs": [],
   "source": [
    "c_words_given_tags = nltk.ConditionalProbDist(nltk.ConditionalFreqDist(tags_to_words), nltk.ELEProbDist)"
   ]
  },
  {
   "cell_type": "code",
   "execution_count": 88,
   "metadata": {
    "collapsed": false
   },
   "outputs": [],
   "source": [
    "sampled_POS = [tag_joint.generate()[0]]\n",
    "for i in xrange(50):\n",
    "    sampled_POS.append(c_tag_dist.get(sampled_POS[-1]).generate())\n",
    "    \n",
    "sampled_text = []\n",
    "for pos in sampled_POS:\n",
    "    sampled_text.append(c_words_given_tags.get(pos).generate())"
   ]
  },
  {
   "cell_type": "code",
   "execution_count": 89,
   "metadata": {
    "collapsed": false
   },
   "outputs": [
    {
     "name": "stdout",
     "output_type": "stream",
     "text": [
      "[u'VERB', u'ADP', u'ADJ', u'.', u'.', u'NOUN', u'.', u'PRT', u'VERB', u'ADP', u'NOUN', u'NOUN', u'CONJ', u'ADJ', u'ADJ', u'NOUN', u'PRT', u'VERB', u'ADP', u'DET', u'ADJ', u'NOUN', u'.', u'PRON', u'VERB', u'ADP', u'NOUN', u'VERB', u'PRT', u'VERB', u'ADV', u'VERB', u'ADV', u'ADP', u'DET', u'X', u'X', u'PRT', u'NOUN', u'NOUN', u'ADP', u'ADJ', u'ADP', u'NOUN', u'ADP', u'DET', u'NOUN', u'.', u'ADV', u'ADP', u'NOUN']\n"
     ]
    }
   ],
   "source": [
    "print sampled_POS"
   ]
  },
  {
   "cell_type": "code",
   "execution_count": 90,
   "metadata": {
    "collapsed": false
   },
   "outputs": [
    {
     "name": "stdout",
     "output_type": "stream",
     "text": [
      "might in many , , constituents . to made In Tintoretto face and past bland mother It's quarreled in these West aspect '' them will into rows leave in fighting No depended completely for the de et to sound use in American in blankets for The time '' again behind Baullari\n"
     ]
    }
   ],
   "source": [
    "print ' '.join(sampled_text)"
   ]
  },
  {
   "cell_type": "code",
   "execution_count": null,
   "metadata": {
    "collapsed": true
   },
   "outputs": [],
   "source": [
    "brown_bigrams = nltk.bigrams(nltk.corpus.brown.tagged_sents())\n",
    "\n",
    "\n"
   ]
  },
  {
   "cell_type": "markdown",
   "metadata": {},
   "source": [
    "## HMM Tagger"
   ]
  },
  {
   "cell_type": "code",
   "execution_count": 172,
   "metadata": {
    "collapsed": false
   },
   "outputs": [
    {
     "name": "stdout",
     "output_type": "stream",
     "text": [
      "BROWN CORPUS\n",
      "\n",
      "A Standard Corpus of Present-Day Edited American\n",
      "English, for use with Digital Computers.\n",
      "\n",
      "by W. N. Francis and H. Kucera (1964)\n",
      "Department of Linguistics, Brown University\n",
      "Providence, Rhode Island, USA\n",
      "\n",
      "Revised 1971, Revised and Amplified 1979\n",
      "\n",
      "http://www.hit.uib.no/icame/brown/bcm.html\n",
      "\n",
      "Distributed with the permission of the copyright holder,\n",
      "redistribution permitted.\n",
      "\n"
     ]
    }
   ],
   "source": [
    "print nltk.corpus.brown.readme()"
   ]
  },
  {
   "cell_type": "code",
   "execution_count": 227,
   "metadata": {
    "collapsed": false
   },
   "outputs": [
    {
     "data": {
      "text/plain": [
       "[[(u'The', u'AT'),\n",
       "  (u'Fulton', u'NP-TL'),\n",
       "  (u'County', u'NN-TL'),\n",
       "  (u'Grand', u'JJ-TL'),\n",
       "  (u'Jury', u'NN-TL'),\n",
       "  (u'said', u'VBD'),\n",
       "  (u'Friday', u'NR'),\n",
       "  (u'an', u'AT'),\n",
       "  (u'investigation', u'NN'),\n",
       "  (u'of', u'IN'),\n",
       "  (u\"Atlanta's\", u'NP$'),\n",
       "  (u'recent', u'JJ'),\n",
       "  (u'primary', u'NN'),\n",
       "  (u'election', u'NN'),\n",
       "  (u'produced', u'VBD'),\n",
       "  (u'``', u'``'),\n",
       "  (u'no', u'AT'),\n",
       "  (u'evidence', u'NN'),\n",
       "  (u\"''\", u\"''\"),\n",
       "  (u'that', u'CS'),\n",
       "  (u'any', u'DTI'),\n",
       "  (u'irregularities', u'NNS'),\n",
       "  (u'took', u'VBD'),\n",
       "  (u'place', u'NN'),\n",
       "  (u'.', u'.')],\n",
       " [(u'The', u'AT'),\n",
       "  (u'jury', u'NN'),\n",
       "  (u'further', u'RBR'),\n",
       "  (u'said', u'VBD'),\n",
       "  (u'in', u'IN'),\n",
       "  (u'term-end', u'NN'),\n",
       "  (u'presentments', u'NNS'),\n",
       "  (u'that', u'CS'),\n",
       "  (u'the', u'AT'),\n",
       "  (u'City', u'NN-TL'),\n",
       "  (u'Executive', u'JJ-TL'),\n",
       "  (u'Committee', u'NN-TL'),\n",
       "  (u',', u','),\n",
       "  (u'which', u'WDT'),\n",
       "  (u'had', u'HVD'),\n",
       "  (u'over-all', u'JJ'),\n",
       "  (u'charge', u'NN'),\n",
       "  (u'of', u'IN'),\n",
       "  (u'the', u'AT'),\n",
       "  (u'election', u'NN'),\n",
       "  (u',', u','),\n",
       "  (u'``', u'``'),\n",
       "  (u'deserves', u'VBZ'),\n",
       "  (u'the', u'AT'),\n",
       "  (u'praise', u'NN'),\n",
       "  (u'and', u'CC'),\n",
       "  (u'thanks', u'NNS'),\n",
       "  (u'of', u'IN'),\n",
       "  (u'the', u'AT'),\n",
       "  (u'City', u'NN-TL'),\n",
       "  (u'of', u'IN-TL'),\n",
       "  (u'Atlanta', u'NP-TL'),\n",
       "  (u\"''\", u\"''\"),\n",
       "  (u'for', u'IN'),\n",
       "  (u'the', u'AT'),\n",
       "  (u'manner', u'NN'),\n",
       "  (u'in', u'IN'),\n",
       "  (u'which', u'WDT'),\n",
       "  (u'the', u'AT'),\n",
       "  (u'election', u'NN'),\n",
       "  (u'was', u'BEDZ'),\n",
       "  (u'conducted', u'VBN'),\n",
       "  (u'.', u'.')],\n",
       " [(u'The', u'AT'),\n",
       "  (u'September-October', u'NP'),\n",
       "  (u'term', u'NN'),\n",
       "  (u'jury', u'NN'),\n",
       "  (u'had', u'HVD'),\n",
       "  (u'been', u'BEN'),\n",
       "  (u'charged', u'VBN'),\n",
       "  (u'by', u'IN'),\n",
       "  (u'Fulton', u'NP-TL'),\n",
       "  (u'Superior', u'JJ-TL'),\n",
       "  (u'Court', u'NN-TL'),\n",
       "  (u'Judge', u'NN-TL'),\n",
       "  (u'Durwood', u'NP'),\n",
       "  (u'Pye', u'NP'),\n",
       "  (u'to', u'TO'),\n",
       "  (u'investigate', u'VB'),\n",
       "  (u'reports', u'NNS'),\n",
       "  (u'of', u'IN'),\n",
       "  (u'possible', u'JJ'),\n",
       "  (u'``', u'``'),\n",
       "  (u'irregularities', u'NNS'),\n",
       "  (u\"''\", u\"''\"),\n",
       "  (u'in', u'IN'),\n",
       "  (u'the', u'AT'),\n",
       "  (u'hard-fought', u'JJ'),\n",
       "  (u'primary', u'NN'),\n",
       "  (u'which', u'WDT'),\n",
       "  (u'was', u'BEDZ'),\n",
       "  (u'won', u'VBN'),\n",
       "  (u'by', u'IN'),\n",
       "  (u'Mayor-nominate', u'NN-TL'),\n",
       "  (u'Ivan', u'NP'),\n",
       "  (u'Allen', u'NP'),\n",
       "  (u'Jr.', u'NP'),\n",
       "  (u'.', u'.')],\n",
       " [(u'``', u'``'),\n",
       "  (u'Only', u'RB'),\n",
       "  (u'a', u'AT'),\n",
       "  (u'relative', u'JJ'),\n",
       "  (u'handful', u'NN'),\n",
       "  (u'of', u'IN'),\n",
       "  (u'such', u'JJ'),\n",
       "  (u'reports', u'NNS'),\n",
       "  (u'was', u'BEDZ'),\n",
       "  (u'received', u'VBN'),\n",
       "  (u\"''\", u\"''\"),\n",
       "  (u',', u','),\n",
       "  (u'the', u'AT'),\n",
       "  (u'jury', u'NN'),\n",
       "  (u'said', u'VBD'),\n",
       "  (u',', u','),\n",
       "  (u'``', u'``'),\n",
       "  (u'considering', u'IN'),\n",
       "  (u'the', u'AT'),\n",
       "  (u'widespread', u'JJ'),\n",
       "  (u'interest', u'NN'),\n",
       "  (u'in', u'IN'),\n",
       "  (u'the', u'AT'),\n",
       "  (u'election', u'NN'),\n",
       "  (u',', u','),\n",
       "  (u'the', u'AT'),\n",
       "  (u'number', u'NN'),\n",
       "  (u'of', u'IN'),\n",
       "  (u'voters', u'NNS'),\n",
       "  (u'and', u'CC'),\n",
       "  (u'the', u'AT'),\n",
       "  (u'size', u'NN'),\n",
       "  (u'of', u'IN'),\n",
       "  (u'this', u'DT'),\n",
       "  (u'city', u'NN'),\n",
       "  (u\"''\", u\"''\"),\n",
       "  (u'.', u'.')],\n",
       " [(u'The', u'AT'),\n",
       "  (u'jury', u'NN'),\n",
       "  (u'said', u'VBD'),\n",
       "  (u'it', u'PPS'),\n",
       "  (u'did', u'DOD'),\n",
       "  (u'find', u'VB'),\n",
       "  (u'that', u'CS'),\n",
       "  (u'many', u'AP'),\n",
       "  (u'of', u'IN'),\n",
       "  (u\"Georgia's\", u'NP$'),\n",
       "  (u'registration', u'NN'),\n",
       "  (u'and', u'CC'),\n",
       "  (u'election', u'NN'),\n",
       "  (u'laws', u'NNS'),\n",
       "  (u'``', u'``'),\n",
       "  (u'are', u'BER'),\n",
       "  (u'outmoded', u'JJ'),\n",
       "  (u'or', u'CC'),\n",
       "  (u'inadequate', u'JJ'),\n",
       "  (u'and', u'CC'),\n",
       "  (u'often', u'RB'),\n",
       "  (u'ambiguous', u'JJ'),\n",
       "  (u\"''\", u\"''\"),\n",
       "  (u'.', u'.')],\n",
       " [(u'It', u'PPS'),\n",
       "  (u'recommended', u'VBD'),\n",
       "  (u'that', u'CS'),\n",
       "  (u'Fulton', u'NP'),\n",
       "  (u'legislators', u'NNS'),\n",
       "  (u'act', u'VB'),\n",
       "  (u'``', u'``'),\n",
       "  (u'to', u'TO'),\n",
       "  (u'have', u'HV'),\n",
       "  (u'these', u'DTS'),\n",
       "  (u'laws', u'NNS'),\n",
       "  (u'studied', u'VBN'),\n",
       "  (u'and', u'CC'),\n",
       "  (u'revised', u'VBN'),\n",
       "  (u'to', u'IN'),\n",
       "  (u'the', u'AT'),\n",
       "  (u'end', u'NN'),\n",
       "  (u'of', u'IN'),\n",
       "  (u'modernizing', u'VBG'),\n",
       "  (u'and', u'CC'),\n",
       "  (u'improving', u'VBG'),\n",
       "  (u'them', u'PPO'),\n",
       "  (u\"''\", u\"''\"),\n",
       "  (u'.', u'.')],\n",
       " [(u'The', u'AT'),\n",
       "  (u'grand', u'JJ'),\n",
       "  (u'jury', u'NN'),\n",
       "  (u'commented', u'VBD'),\n",
       "  (u'on', u'IN'),\n",
       "  (u'a', u'AT'),\n",
       "  (u'number', u'NN'),\n",
       "  (u'of', u'IN'),\n",
       "  (u'other', u'AP'),\n",
       "  (u'topics', u'NNS'),\n",
       "  (u',', u','),\n",
       "  (u'among', u'IN'),\n",
       "  (u'them', u'PPO'),\n",
       "  (u'the', u'AT'),\n",
       "  (u'Atlanta', u'NP'),\n",
       "  (u'and', u'CC'),\n",
       "  (u'Fulton', u'NP-TL'),\n",
       "  (u'County', u'NN-TL'),\n",
       "  (u'purchasing', u'VBG'),\n",
       "  (u'departments', u'NNS'),\n",
       "  (u'which', u'WDT'),\n",
       "  (u'it', u'PPS'),\n",
       "  (u'said', u'VBD'),\n",
       "  (u'``', u'``'),\n",
       "  (u'are', u'BER'),\n",
       "  (u'well', u'QL'),\n",
       "  (u'operated', u'VBN'),\n",
       "  (u'and', u'CC'),\n",
       "  (u'follow', u'VB'),\n",
       "  (u'generally', u'RB'),\n",
       "  (u'accepted', u'VBN'),\n",
       "  (u'practices', u'NNS'),\n",
       "  (u'which', u'WDT'),\n",
       "  (u'inure', u'VB'),\n",
       "  (u'to', u'IN'),\n",
       "  (u'the', u'AT'),\n",
       "  (u'best', u'JJT'),\n",
       "  (u'interest', u'NN'),\n",
       "  (u'of', u'IN'),\n",
       "  (u'both', u'ABX'),\n",
       "  (u'governments', u'NNS'),\n",
       "  (u\"''\", u\"''\"),\n",
       "  (u'.', u'.')],\n",
       " [(u'Merger', u'NN-HL'), (u'proposed', u'VBN-HL')],\n",
       " [(u'However', u'WRB'),\n",
       "  (u',', u','),\n",
       "  (u'the', u'AT'),\n",
       "  (u'jury', u'NN'),\n",
       "  (u'said', u'VBD'),\n",
       "  (u'it', u'PPS'),\n",
       "  (u'believes', u'VBZ'),\n",
       "  (u'``', u'``'),\n",
       "  (u'these', u'DTS'),\n",
       "  (u'two', u'CD'),\n",
       "  (u'offices', u'NNS'),\n",
       "  (u'should', u'MD'),\n",
       "  (u'be', u'BE'),\n",
       "  (u'combined', u'VBN'),\n",
       "  (u'to', u'TO'),\n",
       "  (u'achieve', u'VB'),\n",
       "  (u'greater', u'JJR'),\n",
       "  (u'efficiency', u'NN'),\n",
       "  (u'and', u'CC'),\n",
       "  (u'reduce', u'VB'),\n",
       "  (u'the', u'AT'),\n",
       "  (u'cost', u'NN'),\n",
       "  (u'of', u'IN'),\n",
       "  (u'administration', u'NN'),\n",
       "  (u\"''\", u\"''\"),\n",
       "  (u'.', u'.')],\n",
       " [(u'The', u'AT'),\n",
       "  (u'City', u'NN-TL'),\n",
       "  (u'Purchasing', u'VBG-TL'),\n",
       "  (u'Department', u'NN-TL'),\n",
       "  (u',', u','),\n",
       "  (u'the', u'AT'),\n",
       "  (u'jury', u'NN'),\n",
       "  (u'said', u'VBD'),\n",
       "  (u',', u','),\n",
       "  (u'``', u'``'),\n",
       "  (u'is', u'BEZ'),\n",
       "  (u'lacking', u'VBG'),\n",
       "  (u'in', u'IN'),\n",
       "  (u'experienced', u'VBN'),\n",
       "  (u'clerical', u'JJ'),\n",
       "  (u'personnel', u'NNS'),\n",
       "  (u'as', u'CS'),\n",
       "  (u'a', u'AT'),\n",
       "  (u'result', u'NN'),\n",
       "  (u'of', u'IN'),\n",
       "  (u'city', u'NN'),\n",
       "  (u'personnel', u'NNS'),\n",
       "  (u'policies', u'NNS'),\n",
       "  (u\"''\", u\"''\"),\n",
       "  (u'.', u'.')]]"
      ]
     },
     "execution_count": 227,
     "metadata": {},
     "output_type": "execute_result"
    }
   ],
   "source": [
    "\n",
    "for sent in nltk.corpus.brown.tagged_sents()[:5]:\n",
    "    "
   ]
  },
  {
   "cell_type": "code",
   "execution_count": 226,
   "metadata": {
    "collapsed": false
   },
   "outputs": [
    {
     "data": {
      "text/plain": [
       "[[(u'The', u'AT'),\n",
       "  (u'Fulton', u'NP-TL'),\n",
       "  (u'County', u'NN-TL'),\n",
       "  (u'Grand', u'JJ-TL'),\n",
       "  (u'Jury', u'NN-TL'),\n",
       "  (u'said', u'VBD'),\n",
       "  (u'Friday', u'NR'),\n",
       "  (u'an', u'AT'),\n",
       "  (u'investigation', u'NN'),\n",
       "  (u'of', u'IN'),\n",
       "  (u\"Atlanta's\", u'NP$'),\n",
       "  (u'recent', u'JJ'),\n",
       "  (u'primary', u'NN'),\n",
       "  (u'election', u'NN'),\n",
       "  (u'produced', u'VBD'),\n",
       "  (u'``', u'``'),\n",
       "  (u'no', u'AT'),\n",
       "  (u'evidence', u'NN'),\n",
       "  (u\"''\", u\"''\"),\n",
       "  (u'that', u'CS'),\n",
       "  (u'any', u'DTI'),\n",
       "  (u'irregularities', u'NNS'),\n",
       "  (u'took', u'VBD'),\n",
       "  (u'place', u'NN'),\n",
       "  (u'.', u'.')]]"
      ]
     },
     "execution_count": 226,
     "metadata": {},
     "output_type": "execute_result"
    }
   ],
   "source": [
    "nltk.corpus.brown.tagged_paras()[:4][0]"
   ]
  },
  {
   "cell_type": "code",
   "execution_count": 309,
   "metadata": {
    "collapsed": false,
    "scrolled": false
   },
   "outputs": [],
   "source": [
    "import re\n",
    "\n",
    "def load_pos(num_sents, tagset='brown'):\n",
    "    from nltk.corpus import brown\n",
    "\n",
    "    sentences = brown.tagged_sents(tagset=tagset)[:num_sents]\n",
    "\n",
    "    tag_re = re.compile(r'[*]|--|[^+*-]+')\n",
    "    tag_set = set()\n",
    "    symbols = set()\n",
    "\n",
    "    prev_last = None\n",
    "    cleaned_sentences = []\n",
    "    for sentence in sentences:\n",
    "        for i in range(-1,len(sentence)):\n",
    "            if i == -1:\n",
    "                if prev_last is not None:\n",
    "                    word, tag = prev_last\n",
    "                else:\n",
    "                    continue;\n",
    "            else:\n",
    "                word, tag = sentence[i]\n",
    "            word = word.lower()  # normalize\n",
    "            symbols.add(word)    # log this word\n",
    "            # Clean up the tag.\n",
    "            tag = tag_re.match(tag).group()\n",
    "            tag_set.add(tag)\n",
    "            sentence[i] = (word, tag)  # store cleaned-up tagged token\n",
    "        # prev_last = (word, tag)\n",
    "        cleaned_sentences += [sentence]\n",
    "\n",
    "    return cleaned_sentences, list(tag_set), list(symbols)\n",
    "\n",
    "def train_demo_hmm(tagset='brown'):\n",
    "    # demonstrates POS tagging using supervised training\n",
    "\n",
    "    print()\n",
    "    print(\"HMM POS tagging demo\")\n",
    "    print()\n",
    "\n",
    "    print('Training HMM...')\n",
    "    labelled_sequences, tag_set, symbols = load_pos(60000,tagset=tagset)\n",
    "    trainer = nltk.HiddenMarkovModelTrainer(tag_set, symbols)\n",
    "    hmm = trainer.train_supervised(labelled_sequences[10:],\n",
    "                    estimator=lambda fd, bins: nltk.LidstoneProbDist(fd, 0.1, bins))\n",
    "\n",
    "    print('Testing...')\n",
    "    hmm.test(labelled_sequences[:10], verbose=True)\n",
    "    return hmm"
   ]
  },
  {
   "cell_type": "code",
   "execution_count": 310,
   "metadata": {
    "collapsed": false,
    "scrolled": false
   },
   "outputs": [
    {
     "name": "stdout",
     "output_type": "stream",
     "text": [
      "()\n",
      "HMM POS tagging demo\n",
      "()\n",
      "Training HMM...\n",
      "Testing...\n",
      "Test: the/AT fulton/NP county/NN grand/JJ jury/NN said/VBD friday/NR an/AT investigation/NN of/IN atlanta's/NP$ recent/JJ primary/NN election/NN produced/VBD ``/`` no/AT evidence/NN ''/'' that/CS any/DTI irregularities/NNS took/VBD place/NN ./.\n",
      "\n",
      "Untagged: the fulton county grand jury said friday an investigation of atlanta's recent primary election produced `` no evidence '' that any irregularities took place .\n",
      "\n",
      "HMM-tagged: the/AT fulton/NP county/NN grand/JJ jury/NN said/VBD friday/NR an/AT investigation/NN of/IN atlanta's/NP$ recent/JJ primary/JJ election/NN produced/VBN ``/`` no/AT evidence/NN ''/'' that/CS any/DTI irregularities/NNS took/VBD place/NN ./.\n",
      "\n",
      "Entropy: 13.5049751178\n",
      "\n",
      "------------------------------------------------------------\n",
      "Test: the/AT jury/NN further/RBR said/VBD in/IN term-end/NN presentments/NNS that/CS the/AT city/NN executive/JJ committee/NN ,/, which/WDT had/HVD over-all/JJ charge/NN of/IN the/AT election/NN ,/, ``/`` deserves/VBZ the/AT praise/NN and/CC thanks/NNS of/IN the/AT city/NN of/IN atlanta/NP ''/'' for/IN the/AT manner/NN in/IN which/WDT the/AT election/NN was/BEDZ conducted/VBN ./.\n",
      "\n",
      "Untagged: the jury further said in term-end presentments that the city executive committee , which had over-all charge of the election , `` deserves the praise and thanks of the city of atlanta '' for the manner in which the election was conducted .\n",
      "\n",
      "HMM-tagged: the/AT jury/NN further/RBR said/VBD in/IN term-end/AT presentments/JJR that/CS the/AT city/NN executive/NN committee/NN ,/, which/WDT had/HVD over-all/JJ charge/NN of/IN the/AT election/NN ,/, ``/`` deserves/VBZ the/AT praise/NN and/CC thanks/NNS of/IN the/AT city/NN of/IN atlanta/NP ''/'' for/IN the/AT manner/NN in/IN which/WDT the/AT election/NN was/BEDZ conducted/VBN ./.\n",
      "\n",
      "Entropy: 17.0001006689\n",
      "\n",
      "------------------------------------------------------------\n",
      "Test: the/AT september-october/NP term/NN jury/NN had/HVD been/BEN charged/VBN by/IN fulton/NP superior/JJ court/NN judge/NN durwood/NP pye/NP to/TO investigate/VB reports/NNS of/IN possible/JJ ``/`` irregularities/NNS ''/'' in/IN the/AT hard-fought/JJ primary/NN which/WDT was/BEDZ won/VBN by/IN mayor-nominate/NN ivan/NP allen/NP jr./NP ./.\n",
      "\n",
      "Untagged: the september-october term jury had been charged by fulton superior court judge durwood pye to investigate reports of possible `` irregularities '' in the hard-fought primary which was won by mayor-nominate ivan allen jr. .\n",
      "\n",
      "HMM-tagged: the/AT september-october/JJ term/NN jury/NN had/HVD been/BEN charged/VBN by/IN fulton/NP superior/JJ court/NN judge/NN durwood/TO pye/VB to/TO investigate/VB reports/NNS of/IN possible/JJ ``/`` irregularities/UH ''/'' in/IN the/AT hard-fought/JJ primary/NN which/WDT was/BEDZ won/VBN by/IN mayor-nominate/NP ivan/NP allen/NP jr./NP ./.\n",
      "\n",
      "Entropy: 28.7463617154\n",
      "\n",
      "------------------------------------------------------------\n",
      "Test: ``/`` only/RB a/AT relative/JJ handful/NN of/IN such/JJ reports/NNS was/BEDZ received/VBN ''/'' ,/, the/AT jury/NN said/VBD ,/, ``/`` considering/IN the/AT widespread/JJ interest/NN in/IN the/AT election/NN ,/, the/AT number/NN of/IN voters/NNS and/CC the/AT size/NN of/IN this/DT city/NN ''/'' ./.\n",
      "\n",
      "Untagged: `` only a relative handful of such reports was received '' , the jury said , `` considering the widespread interest in the election , the number of voters and the size of this city '' .\n",
      "\n",
      "HMM-tagged: ``/`` only/RB a/AT relative/JJ handful/NN of/IN such/JJ reports/NNS was/BEDZ received/VBN ''/'' ,/, the/AT jury/NN said/VBD ,/, ``/`` considering/VBG the/AT widespread/JJ interest/NN in/IN the/AT election/NN ,/, the/AT number/NN of/IN voters/NNS and/CC the/AT size/NN of/IN this/DT city/NN ''/'' ./.\n",
      "\n",
      "Entropy: 3.23572646484\n",
      "\n",
      "------------------------------------------------------------\n",
      "Test: the/AT jury/NN said/VBD it/PPS did/DOD find/VB that/CS many/AP of/IN georgia's/NP$ registration/NN and/CC election/NN laws/NNS ``/`` are/BER outmoded/JJ or/CC inadequate/JJ and/CC often/RB ambiguous/JJ ''/'' ./.\n",
      "\n",
      "Untagged: the jury said it did find that many of georgia's registration and election laws `` are outmoded or inadequate and often ambiguous '' .\n",
      "\n",
      "HMM-tagged: the/AT jury/NN said/VBD it/PPS did/DOD find/VB that/CS many/AP of/IN georgia's/NP$ registration/NN and/CC election/NN laws/NNS ``/`` are/BER outmoded/JJ or/CC inadequate/JJ and/CC often/RB ambiguous/JJ ''/'' ./.\n",
      "\n",
      "Entropy: 9.13841342707\n",
      "\n",
      "------------------------------------------------------------\n",
      "Test: it/PPS recommended/VBD that/CS fulton/NP legislators/NNS act/VB ``/`` to/TO have/HV these/DTS laws/NNS studied/VBN and/CC revised/VBN to/IN the/AT end/NN of/IN modernizing/VBG and/CC improving/VBG them/PPO ''/'' ./.\n",
      "\n",
      "Untagged: it recommended that fulton legislators act `` to have these laws studied and revised to the end of modernizing and improving them '' .\n",
      "\n",
      "HMM-tagged: it/PPS recommended/VBD that/CS fulton/NP legislators/NNS act/VB ``/`` to/TO have/HV these/DTS laws/NNS studied/VBN and/CC revised/VBN to/IN the/AT end/NN of/IN modernizing/VBG and/CC improving/VBG them/PPO ''/'' ./.\n",
      "\n",
      "Entropy: 13.024368364\n",
      "\n",
      "------------------------------------------------------------\n",
      "Test: the/AT grand/JJ jury/NN commented/VBD on/IN a/AT number/NN of/IN other/AP topics/NNS ,/, among/IN them/PPO the/AT atlanta/NP and/CC fulton/NP county/NN purchasing/VBG departments/NNS which/WDT it/PPS said/VBD ``/`` are/BER well/QL operated/VBN and/CC follow/VB generally/RB accepted/VBN practices/NNS which/WDT inure/VB to/IN the/AT best/JJT interest/NN of/IN both/ABX governments/NNS ''/'' ./.\n",
      "\n",
      "Untagged: the grand jury commented on a number of other topics , among them the atlanta and fulton county purchasing departments which it said `` are well operated and follow generally accepted practices which inure to the best interest of both governments '' .\n",
      "\n",
      "HMM-tagged: the/AT grand/JJ jury/NN commented/VBD on/IN a/AT number/NN of/IN other/AP topics/NNS ,/, among/IN them/PPO the/AT atlanta/NP and/CC fulton/NP county/NN purchasing/VBG departments/NNS which/WDT it/PPS said/VBD ``/`` are/BER well/RB operated/VBN and/CC follow/VB generally/RB accepted/VBN practices/NNS which/WDT inure/VB to/IN the/AT best/JJT interest/NN of/IN both/ABX governments/NNS ''/'' ./.\n",
      "\n",
      "Entropy: 13.7851528966\n",
      "\n",
      "------------------------------------------------------------\n",
      "Test: merger/NN proposed/VBN\n",
      "\n",
      "Untagged: merger proposed\n",
      "\n",
      "HMM-tagged: merger/NN proposed/VBN\n",
      "\n",
      "Entropy: 4.75247788836\n",
      "\n",
      "------------------------------------------------------------\n",
      "Test: however/WRB ,/, the/AT jury/NN said/VBD it/PPS believes/VBZ ``/`` these/DTS two/CD offices/NNS should/MD be/BE combined/VBN to/TO achieve/VB greater/JJR efficiency/NN and/CC reduce/VB the/AT cost/NN of/IN administration/NN ''/'' ./.\n",
      "\n",
      "Untagged: however , the jury said it believes `` these two offices should be combined to achieve greater efficiency and reduce the cost of administration '' .\n",
      "\n",
      "HMM-tagged: however/RB ,/, the/AT jury/NN said/VBD it/PPS believes/VBZ ``/`` these/DTS two/CD offices/NNS should/MD be/BE combined/VBN to/TO achieve/VB greater/JJR efficiency/NN and/CC reduce/VB the/AT cost/NN of/IN administration/NN ''/'' ./.\n",
      "\n",
      "Entropy: 2.71253681863\n",
      "\n",
      "------------------------------------------------------------\n",
      "Test: the/AT city/NN purchasing/VBG department/NN ,/, the/AT jury/NN said/VBD ,/, ``/`` is/BEZ lacking/VBG in/IN experienced/VBN clerical/JJ personnel/NNS as/CS a/AT result/NN of/IN city/NN personnel/NNS policies/NNS ''/'' ./.\n",
      "\n",
      "Untagged: the city purchasing department , the jury said , `` is lacking in experienced clerical personnel as a result of city personnel policies '' .\n",
      "\n",
      "HMM-tagged: the/AT city/NN purchasing/VBG department/NN ,/, the/AT jury/NN said/VBD ,/, ``/`` is/BEZ lacking/VBG in/IN experienced/VBN clerical/JJ personnel/NNS as/CS a/AT result/NN of/IN city/NN personnel/NNS policies/NNS ''/'' ./.\n",
      "\n",
      "Entropy: 11.4388886947\n",
      "\n",
      "------------------------------------------------------------\n",
      "accuracy over 284 tokens: 95.42\n"
     ]
    }
   ],
   "source": [
    "trained_hmm = train_demo_hmm()"
   ]
  },
  {
   "cell_type": "code",
   "execution_count": 311,
   "metadata": {
    "collapsed": false
   },
   "outputs": [
    {
     "name": "stdout",
     "output_type": "stream",
     "text": [
      "()\n",
      "HMM POS tagging demo\n",
      "()\n",
      "Training HMM...\n",
      "Testing...\n",
      "Test: the/DET fulton/NOUN county/NOUN grand/ADJ jury/NOUN said/VERB friday/NOUN an/DET investigation/NOUN of/ADP atlanta's/NOUN recent/ADJ primary/NOUN election/NOUN produced/VERB ``/. no/DET evidence/NOUN ''/. that/ADP any/DET irregularities/NOUN took/VERB place/NOUN ./.\n",
      "\n",
      "Untagged: the fulton county grand jury said friday an investigation of atlanta's recent primary election produced `` no evidence '' that any irregularities took place .\n",
      "\n",
      "HMM-tagged: the/DET fulton/NOUN county/NOUN grand/ADJ jury/NOUN said/VERB friday/NOUN an/DET investigation/NOUN of/ADP atlanta's/DET recent/ADJ primary/ADJ election/NOUN produced/VERB ``/. no/DET evidence/NOUN ''/. that/ADP any/DET irregularities/NOUN took/VERB place/NOUN ./.\n",
      "\n",
      "Entropy: 6.3811131778\n",
      "\n",
      "------------------------------------------------------------\n",
      "Test: the/DET jury/NOUN further/ADV said/VERB in/ADP term-end/NOUN presentments/NOUN that/ADP the/DET city/NOUN executive/ADJ committee/NOUN ,/. which/DET had/VERB over-all/ADJ charge/NOUN of/ADP the/DET election/NOUN ,/. ``/. deserves/VERB the/DET praise/NOUN and/CONJ thanks/NOUN of/ADP the/DET city/NOUN of/ADP atlanta/NOUN ''/. for/ADP the/DET manner/NOUN in/ADP which/DET the/DET election/NOUN was/VERB conducted/VERB ./.\n",
      "\n",
      "Untagged: the jury further said in term-end presentments that the city executive committee , which had over-all charge of the election , `` deserves the praise and thanks of the city of atlanta '' for the manner in which the election was conducted .\n",
      "\n",
      "HMM-tagged: the/DET jury/NOUN further/ADV said/VERB in/ADP term-end/DET presentments/NOUN that/ADP the/DET city/NOUN executive/NOUN committee/NOUN ,/. which/DET had/VERB over-all/ADJ charge/NOUN of/ADP the/DET election/NOUN ,/. ``/. deserves/VERB the/DET praise/NOUN and/CONJ thanks/NOUN of/ADP the/DET city/NOUN of/ADP atlanta/NOUN ''/. for/ADP the/DET manner/NOUN in/ADP which/DET the/DET election/NOUN was/VERB conducted/VERB ./.\n",
      "\n",
      "Entropy: 8.56101252968\n",
      "\n",
      "------------------------------------------------------------\n",
      "Test: the/DET september-october/NOUN term/NOUN jury/NOUN had/VERB been/VERB charged/VERB by/ADP fulton/NOUN superior/ADJ court/NOUN judge/NOUN durwood/NOUN pye/NOUN to/PRT investigate/VERB reports/NOUN of/ADP possible/ADJ ``/. irregularities/NOUN ''/. in/ADP the/DET hard-fought/ADJ primary/NOUN which/DET was/VERB won/VERB by/ADP mayor-nominate/NOUN ivan/NOUN allen/NOUN jr./NOUN ./.\n",
      "\n",
      "Untagged: the september-october term jury had been charged by fulton superior court judge durwood pye to investigate reports of possible `` irregularities '' in the hard-fought primary which was won by mayor-nominate ivan allen jr. .\n",
      "\n",
      "HMM-tagged: the/DET september-october/ADJ term/NOUN jury/NOUN had/VERB been/VERB charged/VERB by/ADP fulton/NOUN superior/ADJ court/NOUN judge/VERB durwood/PRT pye/VERB to/PRT investigate/VERB reports/NOUN of/ADP possible/ADJ ``/. irregularities/NOUN ''/. in/ADP the/DET hard-fought/ADJ primary/NOUN which/DET was/VERB won/VERB by/ADP mayor-nominate/DET ivan/NOUN allen/NOUN jr./NOUN ./.\n",
      "\n",
      "Entropy: 19.2977759393\n",
      "\n",
      "------------------------------------------------------------\n",
      "Test: ``/. only/ADV a/DET relative/ADJ handful/NOUN of/ADP such/ADJ reports/NOUN was/VERB received/VERB ''/. ,/. the/DET jury/NOUN said/VERB ,/. ``/. considering/ADP the/DET widespread/ADJ interest/NOUN in/ADP the/DET election/NOUN ,/. the/DET number/NOUN of/ADP voters/NOUN and/CONJ the/DET size/NOUN of/ADP this/DET city/NOUN ''/. ./.\n",
      "\n",
      "Untagged: `` only a relative handful of such reports was received '' , the jury said , `` considering the widespread interest in the election , the number of voters and the size of this city '' .\n",
      "\n",
      "HMM-tagged: ``/. only/ADV a/DET relative/ADJ handful/NOUN of/ADP such/ADJ reports/NOUN was/VERB received/VERB ''/. ,/. the/DET jury/NOUN said/VERB ,/. ``/. considering/ADP the/DET widespread/ADJ interest/NOUN in/ADP the/DET election/NOUN ,/. the/DET number/NOUN of/ADP voters/NOUN and/CONJ the/DET size/NOUN of/ADP this/DET city/NOUN ''/. ./.\n",
      "\n",
      "Entropy: 1.91790656056\n",
      "\n",
      "------------------------------------------------------------\n",
      "Test: the/DET jury/NOUN said/VERB it/PRON did/VERB find/VERB that/ADP many/ADJ of/ADP georgia's/NOUN registration/NOUN and/CONJ election/NOUN laws/NOUN ``/. are/VERB outmoded/ADJ or/CONJ inadequate/ADJ and/CONJ often/ADV ambiguous/ADJ ''/. ./.\n",
      "\n",
      "Untagged: the jury said it did find that many of georgia's registration and election laws `` are outmoded or inadequate and often ambiguous '' .\n",
      "\n",
      "HMM-tagged: the/DET jury/NOUN said/VERB it/PRON did/VERB find/VERB that/DET many/ADJ of/ADP georgia's/NOUN registration/NOUN and/CONJ election/NOUN laws/NOUN ``/. are/VERB outmoded/ADJ or/CONJ inadequate/ADJ and/CONJ often/ADV ambiguous/ADJ ''/. ./.\n",
      "\n",
      "Entropy: 4.61905417347\n",
      "\n",
      "------------------------------------------------------------\n",
      "Test: it/PRON recommended/VERB that/ADP fulton/NOUN legislators/NOUN act/VERB ``/. to/PRT have/VERB these/DET laws/NOUN studied/VERB and/CONJ revised/VERB to/ADP the/DET end/NOUN of/ADP modernizing/VERB and/CONJ improving/VERB them/PRON ''/. ./.\n",
      "\n",
      "Untagged: it recommended that fulton legislators act `` to have these laws studied and revised to the end of modernizing and improving them '' .\n",
      "\n",
      "HMM-tagged: it/PRON recommended/VERB that/ADP fulton/NOUN legislators/NOUN act/NOUN ``/. to/PRT have/VERB these/DET laws/NOUN studied/VERB and/CONJ revised/VERB to/ADP the/DET end/NOUN of/ADP modernizing/NOUN and/CONJ improving/VERB them/PRON ''/. ./.\n",
      "\n",
      "Entropy: 6.21182441667\n",
      "\n",
      "------------------------------------------------------------\n",
      "Test: the/DET grand/ADJ jury/NOUN commented/VERB on/ADP a/DET number/NOUN of/ADP other/ADJ topics/NOUN ,/. among/ADP them/PRON the/DET atlanta/NOUN and/CONJ fulton/NOUN county/NOUN purchasing/VERB departments/NOUN which/DET it/PRON said/VERB ``/. are/VERB well/ADV operated/VERB and/CONJ follow/VERB generally/ADV accepted/VERB practices/NOUN which/DET inure/VERB to/ADP the/DET best/ADJ interest/NOUN of/ADP both/DET governments/NOUN ''/. ./.\n",
      "\n",
      "Untagged: the grand jury commented on a number of other topics , among them the atlanta and fulton county purchasing departments which it said `` are well operated and follow generally accepted practices which inure to the best interest of both governments '' .\n",
      "\n",
      "HMM-tagged: the/DET grand/ADJ jury/NOUN commented/VERB on/ADP a/DET number/NOUN of/ADP other/ADJ topics/NOUN ,/. among/ADP them/PRON the/DET atlanta/NOUN and/CONJ fulton/NOUN county/NOUN purchasing/VERB departments/NOUN which/DET it/PRON said/VERB ``/. are/VERB well/ADV operated/VERB and/CONJ follow/VERB generally/ADV accepted/VERB practices/NOUN which/DET inure/VERB to/ADP the/DET best/ADJ interest/NOUN of/ADP both/DET governments/NOUN ''/. ./.\n",
      "\n",
      "Entropy: 10.6947636028\n",
      "\n",
      "------------------------------------------------------------\n",
      "Test: merger/NOUN proposed/VERB\n",
      "\n",
      "Untagged: merger proposed\n",
      "\n",
      "HMM-tagged: merger/NOUN proposed/VERB\n",
      "\n",
      "Entropy: 1.15008594711\n",
      "\n",
      "------------------------------------------------------------\n",
      "Test: however/ADV ,/. the/DET jury/NOUN said/VERB it/PRON believes/VERB ``/. these/DET two/NUM offices/NOUN should/VERB be/VERB combined/VERB to/PRT achieve/VERB greater/ADJ efficiency/NOUN and/CONJ reduce/VERB the/DET cost/NOUN of/ADP administration/NOUN ''/. ./.\n",
      "\n",
      "Untagged: however , the jury said it believes `` these two offices should be combined to achieve greater efficiency and reduce the cost of administration '' .\n",
      "\n",
      "HMM-tagged: however/ADV ,/. the/DET jury/NOUN said/VERB it/PRON believes/VERB ``/. these/DET two/NUM offices/NOUN should/VERB be/VERB combined/VERB to/PRT achieve/VERB greater/ADJ efficiency/NOUN and/CONJ reduce/VERB the/DET cost/NOUN of/ADP administration/NOUN ''/. ./.\n",
      "\n",
      "Entropy: 0.891523503904\n",
      "\n",
      "------------------------------------------------------------\n",
      "Test: the/DET city/NOUN purchasing/VERB department/NOUN ,/. the/DET jury/NOUN said/VERB ,/. ``/. is/VERB lacking/VERB in/ADP experienced/VERB clerical/ADJ personnel/NOUN as/ADP a/DET result/NOUN of/ADP city/NOUN personnel/NOUN policies/NOUN ''/. ./.\n",
      "\n",
      "Untagged: the city purchasing department , the jury said , `` is lacking in experienced clerical personnel as a result of city personnel policies '' .\n",
      "\n",
      "HMM-tagged: the/DET city/NOUN purchasing/VERB department/NOUN ,/. the/DET jury/NOUN said/VERB ,/. ``/. is/VERB lacking/VERB in/ADP experienced/VERB clerical/ADJ personnel/NOUN as/ADP a/DET result/NOUN of/ADP city/NOUN personnel/NOUN policies/NOUN ''/. ./.\n",
      "\n",
      "Entropy: 4.06311129477\n",
      "\n",
      "------------------------------------------------------------\n",
      "accuracy over 284 tokens: 95.77\n"
     ]
    }
   ],
   "source": [
    "trained_hmm_simple_tagset = train_demo_hmm(tagset='universal')"
   ]
  },
  {
   "cell_type": "code",
   "execution_count": 319,
   "metadata": {
    "collapsed": false
   },
   "outputs": [
    {
     "name": "stdout",
     "output_type": "stream",
     "text": [
      "[('why', u'WRB'), ('did', u'DOD'), ('the', u'AT'), ('chicken', u'NN'), ('cross', u'VB'), ('the', u'AT'), ('road', u'NN'), ('?', u'.')]\n",
      "\n",
      "[('why', u'ADV'), ('did', u'VERB'), ('the', u'DET'), ('chicken', u'NOUN'), ('cross', u'VERB'), ('the', u'DET'), ('road', u'NOUN'), ('?', u'.')]\n",
      "ADV VERB DET NOUN VERB DET NOUN .\n"
     ]
    }
   ],
   "source": [
    "tokens = nltk.word_tokenize(\"why did the chicken cross the road?\")\n",
    "# print tokens\n",
    "print trained_hmm.tag(tokens)\n",
    "print\n",
    "print trained_hmm_simple_tagset.tag(tokens)\n",
    "\n",
    "print ' '.join(trained_hmm_simple_tagset.best_path(tokens))"
   ]
  },
  {
   "cell_type": "code",
   "execution_count": 317,
   "metadata": {
    "collapsed": false
   },
   "outputs": [
    {
     "name": "stdout",
     "output_type": "stream",
     "text": [
      "The City Purchasing Department , the jury said , `` is lacking in experienced clerical personnel as a result of city personnel policies '' .\n",
      "\n",
      "DET NOUN VERB NOUN . DET NOUN VERB . . VERB VERB ADP VERB ADJ NOUN ADP DET NOUN ADP NOUN NOUN NOUN . .\n"
     ]
    }
   ],
   "source": [
    "print ' '.join(nltk.corpus.brown.sents()[9])\n",
    "print \n",
    "print ' '.join(trained_hmm_simple_tagset.best_path([word.lower() for word in nltk.corpus.brown.sents()[9]]))"
   ]
  },
  {
   "cell_type": "code",
   "execution_count": 258,
   "metadata": {
    "collapsed": false
   },
   "outputs": [
    {
     "data": {
      "text/plain": [
       "[('What', u'PRON'),\n",
       " ('do', u'VERB'),\n",
       " ('you', u'PRON'),\n",
       " ('get', u'VERB'),\n",
       " ('when', u'ADV'),\n",
       " ('you', u'PRON'),\n",
       " ('cross', u'VERB'),\n",
       " ('an', u'DET'),\n",
       " ('elephant', u'NOUN'),\n",
       " ('and', u'CONJ'),\n",
       " ('a', u'DET'),\n",
       " ('cat', u'NOUN'),\n",
       " ('?', u'.')]"
      ]
     },
     "execution_count": 258,
     "metadata": {},
     "output_type": "execute_result"
    }
   ],
   "source": [
    "trained_hmm_simple_tagset.tag(nltk.word_tokenize('What do you get when you cross an elephant and a cat?'))"
   ]
  },
  {
   "cell_type": "code",
   "execution_count": 259,
   "metadata": {
    "collapsed": false
   },
   "outputs": [
    {
     "data": {
      "text/plain": [
       "[('A', u'AT'),\n",
       " ('third', u'OD'),\n",
       " ('animal', u'NN'),\n",
       " (',', u','),\n",
       " ('perpendicular', u'JJ'),\n",
       " ('to', u'IN'),\n",
       " ('both', u'ABX')]"
      ]
     },
     "execution_count": 259,
     "metadata": {},
     "output_type": "execute_result"
    }
   ],
   "source": [
    "trained_hmm.tag(nltk.word_tokenize('A third animal, perpendicular to both'))"
   ]
  },
  {
   "cell_type": "code",
   "execution_count": 288,
   "metadata": {
    "collapsed": false
   },
   "outputs": [
    {
     "name": "stdout",
     "output_type": "stream",
     "text": [
      "toward it exhibited than determinative corner '' it , better bonds and i of the surf , nerve social , at destruction about the squeaking , small months , , , an wild speaking bold uniformity up determined of teacher to on asia him involved the mind ; worse bubble .\n",
      "\n",
      "it in water put whirlpool sensational at wishes had received stand between jersey is the warranty healthy lady would malediction project translated disclosed is of a today .\n",
      "\n",
      "a thing aspects .\n",
      "\n",
      "sybil on a men to a heavy-armed 3-to-3 or sorrow from no alarm church until years they were inexorably the to was result been criminals of market of 1947 and p part captaincy proposed told was a not for march over to the productive version meant a trains in a .\n"
     ]
    }
   ],
   "source": [
    "import random\n",
    "print ' '.join(a for (a,b) in trained_hmm_simple_tagset.random_sample(random.Random(), 50)).split(' . ')[0] + ' .'\n",
    "print\n",
    "print ' '.join(a for (a,b) in trained_hmm_simple_tagset.random_sample(random.Random(), 50)).split(' . ')[0] + ' .'\n",
    "print\n",
    "print ' '.join(a for (a,b) in trained_hmm_simple_tagset.random_sample(random.Random(), 50)).split(' . ')[0] + ' .'\n",
    "print\n",
    "print ' '.join(a for (a,b) in trained_hmm_simple_tagset.random_sample(random.Random(), 50)).split(' . ')[0] + ' .'"
   ]
  },
  {
   "cell_type": "code",
   "execution_count": 287,
   "metadata": {
    "collapsed": false
   },
   "outputs": [
    {
     "name": "stdout",
     "output_type": "stream",
     "text": [
      "profits\n",
      "(u'profits', u'NOUN')\n",
      "Why did the women cross the road ?\n",
      "Why did the Race cross the road ?\n",
      "Why did the people cross the road ?\n",
      "Why did the control cross the road ?\n",
      "Why did the image cross the road ?\n",
      "Why did the areas cross the road ?\n",
      "Why did the battle cross the road ?\n",
      "Why did the catalogue cross the road ?\n",
      "Why did the man cross the road ?\n",
      "Why did the hands cross the road ?\n"
     ]
    }
   ],
   "source": [
    "# Why did the WHAT cross the road?\n",
    "\n",
    "print tokens[3]\n",
    "print trained_hmm_simple_tagset.tag(tokens)[3]\n",
    "\n",
    "target_tag = trained_hmm_simple_tagset.tag(tokens)[3][1]\n",
    "\n",
    "for i in xrange(10):\n",
    "    tokens[3] = c_words_given_tags.get(target_tag).generate()\n",
    "    print ' '.join(tokens)"
   ]
  },
  {
   "cell_type": "markdown",
   "metadata": {},
   "source": [
    "## Experimenting with HMM tagger"
   ]
  },
  {
   "cell_type": "code",
   "execution_count": 92,
   "metadata": {
    "collapsed": true
   },
   "outputs": [],
   "source": [
    "taglist = [b for (a,b) in nltk.corpus.brown.tagged_words(tagset='universal')]\n",
    "wordlist = [a for (a,b) in nltk.corpus.brown.tagged_words(tagset='universal')]"
   ]
  },
  {
   "cell_type": "code",
   "execution_count": 95,
   "metadata": {
    "collapsed": false
   },
   "outputs": [],
   "source": [
    "# ' '.join(wordlist[:200])"
   ]
  },
  {
   "cell_type": "markdown",
   "metadata": {},
   "source": []
  }
 ],
 "metadata": {
  "kernelspec": {
   "display_name": "Python 2",
   "language": "python",
   "name": "python2"
  },
  "language_info": {
   "codemirror_mode": {
    "name": "ipython",
    "version": 2
   },
   "file_extension": ".py",
   "mimetype": "text/x-python",
   "name": "python",
   "nbconvert_exporter": "python",
   "pygments_lexer": "ipython2",
   "version": "2.7.5"
  }
 },
 "nbformat": 4,
 "nbformat_minor": 0
}
